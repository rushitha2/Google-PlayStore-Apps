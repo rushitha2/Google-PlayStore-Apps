{
 "cells": [
  {
   "cell_type": "markdown",
   "id": "6bc2fac6-3f1c-466c-8630-e0513c7871b3",
   "metadata": {},
   "source": [
    "### Link: https://www.kaggle.com/datasets/lava18/google-play-store-apps"
   ]
  },
  {
   "cell_type": "code",
   "execution_count": 1,
   "id": "c68d6b43-95d4-4126-8ef9-434e1a22f131",
   "metadata": {},
   "outputs": [],
   "source": [
    "import pandas as pd"
   ]
  },
  {
   "cell_type": "code",
   "execution_count": 2,
   "id": "137fd9eb-9b6a-45d3-9bf1-f87a843c2352",
   "metadata": {},
   "outputs": [],
   "source": [
    "data = pd.read_csv('googleplaystore.csv')"
   ]
  },
  {
   "cell_type": "markdown",
   "id": "e861d0a5-bb9f-4eef-b734-c39ad1510571",
   "metadata": {},
   "source": [
    "### 1.Display Top 5 Rows of The Dataset"
   ]
  },
  {
   "cell_type": "code",
   "execution_count": 3,
   "id": "8d0f4a69-27fe-4789-8a7a-13208756671b",
   "metadata": {},
   "outputs": [
    {
     "data": {
      "text/html": [
       "<div>\n",
       "<style scoped>\n",
       "    .dataframe tbody tr th:only-of-type {\n",
       "        vertical-align: middle;\n",
       "    }\n",
       "\n",
       "    .dataframe tbody tr th {\n",
       "        vertical-align: top;\n",
       "    }\n",
       "\n",
       "    .dataframe thead th {\n",
       "        text-align: right;\n",
       "    }\n",
       "</style>\n",
       "<table border=\"1\" class=\"dataframe\">\n",
       "  <thead>\n",
       "    <tr style=\"text-align: right;\">\n",
       "      <th></th>\n",
       "      <th>App</th>\n",
       "      <th>Category</th>\n",
       "      <th>Rating</th>\n",
       "      <th>Reviews</th>\n",
       "      <th>Size</th>\n",
       "      <th>Installs</th>\n",
       "      <th>Type</th>\n",
       "      <th>Price</th>\n",
       "      <th>Content Rating</th>\n",
       "      <th>Genres</th>\n",
       "      <th>Last Updated</th>\n",
       "      <th>Current Ver</th>\n",
       "      <th>Android Ver</th>\n",
       "    </tr>\n",
       "  </thead>\n",
       "  <tbody>\n",
       "    <tr>\n",
       "      <th>0</th>\n",
       "      <td>Photo Editor &amp; Candy Camera &amp; Grid &amp; ScrapBook</td>\n",
       "      <td>ART_AND_DESIGN</td>\n",
       "      <td>4.1</td>\n",
       "      <td>159</td>\n",
       "      <td>19M</td>\n",
       "      <td>10,000+</td>\n",
       "      <td>Free</td>\n",
       "      <td>0</td>\n",
       "      <td>Everyone</td>\n",
       "      <td>Art &amp; Design</td>\n",
       "      <td>January 7, 2018</td>\n",
       "      <td>1.0.0</td>\n",
       "      <td>4.0.3 and up</td>\n",
       "    </tr>\n",
       "    <tr>\n",
       "      <th>1</th>\n",
       "      <td>Coloring book moana</td>\n",
       "      <td>ART_AND_DESIGN</td>\n",
       "      <td>3.9</td>\n",
       "      <td>967</td>\n",
       "      <td>14M</td>\n",
       "      <td>500,000+</td>\n",
       "      <td>Free</td>\n",
       "      <td>0</td>\n",
       "      <td>Everyone</td>\n",
       "      <td>Art &amp; Design;Pretend Play</td>\n",
       "      <td>January 15, 2018</td>\n",
       "      <td>2.0.0</td>\n",
       "      <td>4.0.3 and up</td>\n",
       "    </tr>\n",
       "    <tr>\n",
       "      <th>2</th>\n",
       "      <td>U Launcher Lite – FREE Live Cool Themes, Hide ...</td>\n",
       "      <td>ART_AND_DESIGN</td>\n",
       "      <td>4.7</td>\n",
       "      <td>87510</td>\n",
       "      <td>8.7M</td>\n",
       "      <td>5,000,000+</td>\n",
       "      <td>Free</td>\n",
       "      <td>0</td>\n",
       "      <td>Everyone</td>\n",
       "      <td>Art &amp; Design</td>\n",
       "      <td>August 1, 2018</td>\n",
       "      <td>1.2.4</td>\n",
       "      <td>4.0.3 and up</td>\n",
       "    </tr>\n",
       "    <tr>\n",
       "      <th>3</th>\n",
       "      <td>Sketch - Draw &amp; Paint</td>\n",
       "      <td>ART_AND_DESIGN</td>\n",
       "      <td>4.5</td>\n",
       "      <td>215644</td>\n",
       "      <td>25M</td>\n",
       "      <td>50,000,000+</td>\n",
       "      <td>Free</td>\n",
       "      <td>0</td>\n",
       "      <td>Teen</td>\n",
       "      <td>Art &amp; Design</td>\n",
       "      <td>June 8, 2018</td>\n",
       "      <td>Varies with device</td>\n",
       "      <td>4.2 and up</td>\n",
       "    </tr>\n",
       "    <tr>\n",
       "      <th>4</th>\n",
       "      <td>Pixel Draw - Number Art Coloring Book</td>\n",
       "      <td>ART_AND_DESIGN</td>\n",
       "      <td>4.3</td>\n",
       "      <td>967</td>\n",
       "      <td>2.8M</td>\n",
       "      <td>100,000+</td>\n",
       "      <td>Free</td>\n",
       "      <td>0</td>\n",
       "      <td>Everyone</td>\n",
       "      <td>Art &amp; Design;Creativity</td>\n",
       "      <td>June 20, 2018</td>\n",
       "      <td>1.1</td>\n",
       "      <td>4.4 and up</td>\n",
       "    </tr>\n",
       "  </tbody>\n",
       "</table>\n",
       "</div>"
      ],
      "text/plain": [
       "                                                 App        Category  Rating  \\\n",
       "0     Photo Editor & Candy Camera & Grid & ScrapBook  ART_AND_DESIGN     4.1   \n",
       "1                                Coloring book moana  ART_AND_DESIGN     3.9   \n",
       "2  U Launcher Lite – FREE Live Cool Themes, Hide ...  ART_AND_DESIGN     4.7   \n",
       "3                              Sketch - Draw & Paint  ART_AND_DESIGN     4.5   \n",
       "4              Pixel Draw - Number Art Coloring Book  ART_AND_DESIGN     4.3   \n",
       "\n",
       "  Reviews  Size     Installs  Type Price Content Rating  \\\n",
       "0     159   19M      10,000+  Free     0       Everyone   \n",
       "1     967   14M     500,000+  Free     0       Everyone   \n",
       "2   87510  8.7M   5,000,000+  Free     0       Everyone   \n",
       "3  215644   25M  50,000,000+  Free     0           Teen   \n",
       "4     967  2.8M     100,000+  Free     0       Everyone   \n",
       "\n",
       "                      Genres      Last Updated         Current Ver  \\\n",
       "0               Art & Design   January 7, 2018               1.0.0   \n",
       "1  Art & Design;Pretend Play  January 15, 2018               2.0.0   \n",
       "2               Art & Design    August 1, 2018               1.2.4   \n",
       "3               Art & Design      June 8, 2018  Varies with device   \n",
       "4    Art & Design;Creativity     June 20, 2018                 1.1   \n",
       "\n",
       "    Android Ver  \n",
       "0  4.0.3 and up  \n",
       "1  4.0.3 and up  \n",
       "2  4.0.3 and up  \n",
       "3    4.2 and up  \n",
       "4    4.4 and up  "
      ]
     },
     "execution_count": 3,
     "metadata": {},
     "output_type": "execute_result"
    }
   ],
   "source": [
    "data.head()"
   ]
  },
  {
   "cell_type": "markdown",
   "id": "c04ac1b9-f8e3-4ead-96c1-b27e4ef69846",
   "metadata": {},
   "source": [
    "### 2.Check Last 3 Rows of the Dataset"
   ]
  },
  {
   "cell_type": "code",
   "execution_count": 4,
   "id": "3351ba98-8731-4b83-a460-a1a944f309ef",
   "metadata": {},
   "outputs": [
    {
     "data": {
      "text/html": [
       "<div>\n",
       "<style scoped>\n",
       "    .dataframe tbody tr th:only-of-type {\n",
       "        vertical-align: middle;\n",
       "    }\n",
       "\n",
       "    .dataframe tbody tr th {\n",
       "        vertical-align: top;\n",
       "    }\n",
       "\n",
       "    .dataframe thead th {\n",
       "        text-align: right;\n",
       "    }\n",
       "</style>\n",
       "<table border=\"1\" class=\"dataframe\">\n",
       "  <thead>\n",
       "    <tr style=\"text-align: right;\">\n",
       "      <th></th>\n",
       "      <th>App</th>\n",
       "      <th>Category</th>\n",
       "      <th>Rating</th>\n",
       "      <th>Reviews</th>\n",
       "      <th>Size</th>\n",
       "      <th>Installs</th>\n",
       "      <th>Type</th>\n",
       "      <th>Price</th>\n",
       "      <th>Content Rating</th>\n",
       "      <th>Genres</th>\n",
       "      <th>Last Updated</th>\n",
       "      <th>Current Ver</th>\n",
       "      <th>Android Ver</th>\n",
       "    </tr>\n",
       "  </thead>\n",
       "  <tbody>\n",
       "    <tr>\n",
       "      <th>10838</th>\n",
       "      <td>Parkinson Exercices FR</td>\n",
       "      <td>MEDICAL</td>\n",
       "      <td>NaN</td>\n",
       "      <td>3</td>\n",
       "      <td>9.5M</td>\n",
       "      <td>1,000+</td>\n",
       "      <td>Free</td>\n",
       "      <td>0</td>\n",
       "      <td>Everyone</td>\n",
       "      <td>Medical</td>\n",
       "      <td>January 20, 2017</td>\n",
       "      <td>1.0</td>\n",
       "      <td>2.2 and up</td>\n",
       "    </tr>\n",
       "    <tr>\n",
       "      <th>10839</th>\n",
       "      <td>The SCP Foundation DB fr nn5n</td>\n",
       "      <td>BOOKS_AND_REFERENCE</td>\n",
       "      <td>4.5</td>\n",
       "      <td>114</td>\n",
       "      <td>Varies with device</td>\n",
       "      <td>1,000+</td>\n",
       "      <td>Free</td>\n",
       "      <td>0</td>\n",
       "      <td>Mature 17+</td>\n",
       "      <td>Books &amp; Reference</td>\n",
       "      <td>January 19, 2015</td>\n",
       "      <td>Varies with device</td>\n",
       "      <td>Varies with device</td>\n",
       "    </tr>\n",
       "    <tr>\n",
       "      <th>10840</th>\n",
       "      <td>iHoroscope - 2018 Daily Horoscope &amp; Astrology</td>\n",
       "      <td>LIFESTYLE</td>\n",
       "      <td>4.5</td>\n",
       "      <td>398307</td>\n",
       "      <td>19M</td>\n",
       "      <td>10,000,000+</td>\n",
       "      <td>Free</td>\n",
       "      <td>0</td>\n",
       "      <td>Everyone</td>\n",
       "      <td>Lifestyle</td>\n",
       "      <td>July 25, 2018</td>\n",
       "      <td>Varies with device</td>\n",
       "      <td>Varies with device</td>\n",
       "    </tr>\n",
       "  </tbody>\n",
       "</table>\n",
       "</div>"
      ],
      "text/plain": [
       "                                                 App             Category  \\\n",
       "10838                         Parkinson Exercices FR              MEDICAL   \n",
       "10839                  The SCP Foundation DB fr nn5n  BOOKS_AND_REFERENCE   \n",
       "10840  iHoroscope - 2018 Daily Horoscope & Astrology            LIFESTYLE   \n",
       "\n",
       "       Rating Reviews                Size     Installs  Type Price  \\\n",
       "10838     NaN       3                9.5M       1,000+  Free     0   \n",
       "10839     4.5     114  Varies with device       1,000+  Free     0   \n",
       "10840     4.5  398307                 19M  10,000,000+  Free     0   \n",
       "\n",
       "      Content Rating             Genres      Last Updated         Current Ver  \\\n",
       "10838       Everyone            Medical  January 20, 2017                 1.0   \n",
       "10839     Mature 17+  Books & Reference  January 19, 2015  Varies with device   \n",
       "10840       Everyone          Lifestyle     July 25, 2018  Varies with device   \n",
       "\n",
       "              Android Ver  \n",
       "10838          2.2 and up  \n",
       "10839  Varies with device  \n",
       "10840  Varies with device  "
      ]
     },
     "execution_count": 4,
     "metadata": {},
     "output_type": "execute_result"
    }
   ],
   "source": [
    "data.tail(3)"
   ]
  },
  {
   "cell_type": "markdown",
   "id": "27d71334-ab05-4156-9787-dae16353c755",
   "metadata": {},
   "source": [
    "### 3.Find Shape of Our Dataset"
   ]
  },
  {
   "cell_type": "code",
   "execution_count": 5,
   "id": "8f656668-6f20-436a-bcc9-bd53af7958dc",
   "metadata": {},
   "outputs": [
    {
     "data": {
      "text/plain": [
       "(10841, 13)"
      ]
     },
     "execution_count": 5,
     "metadata": {},
     "output_type": "execute_result"
    }
   ],
   "source": [
    "data.shape"
   ]
  },
  {
   "cell_type": "code",
   "execution_count": 6,
   "id": "6df2c8d5-b9f6-4eb2-b9db-2a4edf5b7846",
   "metadata": {},
   "outputs": [
    {
     "name": "stdout",
     "output_type": "stream",
     "text": [
      "Number of Rows 10841\n",
      "Number of Columns 13\n"
     ]
    }
   ],
   "source": [
    "print(\"Number of Rows\",data.shape[0])\n",
    "print(\"Number of Columns\",data.shape[1])"
   ]
  },
  {
   "cell_type": "markdown",
   "id": "fa418112-3636-4c64-b7af-ea51238561b7",
   "metadata": {},
   "source": [
    "### 4.Information about Dataset"
   ]
  },
  {
   "cell_type": "code",
   "execution_count": 7,
   "id": "d512a6fe-04d5-4f81-9651-4d45abc944d1",
   "metadata": {},
   "outputs": [
    {
     "name": "stdout",
     "output_type": "stream",
     "text": [
      "<class 'pandas.core.frame.DataFrame'>\n",
      "RangeIndex: 10841 entries, 0 to 10840\n",
      "Data columns (total 13 columns):\n",
      " #   Column          Non-Null Count  Dtype  \n",
      "---  ------          --------------  -----  \n",
      " 0   App             10841 non-null  object \n",
      " 1   Category        10841 non-null  object \n",
      " 2   Rating          9367 non-null   float64\n",
      " 3   Reviews         10841 non-null  object \n",
      " 4   Size            10841 non-null  object \n",
      " 5   Installs        10841 non-null  object \n",
      " 6   Type            10840 non-null  object \n",
      " 7   Price           10841 non-null  object \n",
      " 8   Content Rating  10840 non-null  object \n",
      " 9   Genres          10841 non-null  object \n",
      " 10  Last Updated    10841 non-null  object \n",
      " 11  Current Ver     10833 non-null  object \n",
      " 12  Android Ver     10838 non-null  object \n",
      "dtypes: float64(1), object(12)\n",
      "memory usage: 1.1+ MB\n"
     ]
    }
   ],
   "source": [
    "data.info()"
   ]
  },
  {
   "cell_type": "markdown",
   "id": "82ef27f6-66cd-4971-9869-060e49ae20b7",
   "metadata": {},
   "source": [
    "### 5.Overall Statistics about Dataset"
   ]
  },
  {
   "cell_type": "code",
   "execution_count": 8,
   "id": "7614e15b-af25-4e4a-90d3-1f824de1081e",
   "metadata": {},
   "outputs": [
    {
     "data": {
      "text/html": [
       "<div>\n",
       "<style scoped>\n",
       "    .dataframe tbody tr th:only-of-type {\n",
       "        vertical-align: middle;\n",
       "    }\n",
       "\n",
       "    .dataframe tbody tr th {\n",
       "        vertical-align: top;\n",
       "    }\n",
       "\n",
       "    .dataframe thead th {\n",
       "        text-align: right;\n",
       "    }\n",
       "</style>\n",
       "<table border=\"1\" class=\"dataframe\">\n",
       "  <thead>\n",
       "    <tr style=\"text-align: right;\">\n",
       "      <th></th>\n",
       "      <th>Rating</th>\n",
       "    </tr>\n",
       "  </thead>\n",
       "  <tbody>\n",
       "    <tr>\n",
       "      <th>count</th>\n",
       "      <td>9367.000000</td>\n",
       "    </tr>\n",
       "    <tr>\n",
       "      <th>mean</th>\n",
       "      <td>4.193338</td>\n",
       "    </tr>\n",
       "    <tr>\n",
       "      <th>std</th>\n",
       "      <td>0.537431</td>\n",
       "    </tr>\n",
       "    <tr>\n",
       "      <th>min</th>\n",
       "      <td>1.000000</td>\n",
       "    </tr>\n",
       "    <tr>\n",
       "      <th>25%</th>\n",
       "      <td>4.000000</td>\n",
       "    </tr>\n",
       "    <tr>\n",
       "      <th>50%</th>\n",
       "      <td>4.300000</td>\n",
       "    </tr>\n",
       "    <tr>\n",
       "      <th>75%</th>\n",
       "      <td>4.500000</td>\n",
       "    </tr>\n",
       "    <tr>\n",
       "      <th>max</th>\n",
       "      <td>19.000000</td>\n",
       "    </tr>\n",
       "  </tbody>\n",
       "</table>\n",
       "</div>"
      ],
      "text/plain": [
       "            Rating\n",
       "count  9367.000000\n",
       "mean      4.193338\n",
       "std       0.537431\n",
       "min       1.000000\n",
       "25%       4.000000\n",
       "50%       4.300000\n",
       "75%       4.500000\n",
       "max      19.000000"
      ]
     },
     "execution_count": 8,
     "metadata": {},
     "output_type": "execute_result"
    }
   ],
   "source": [
    "data.describe()"
   ]
  },
  {
   "cell_type": "code",
   "execution_count": 9,
   "id": "ea787b50-4d84-41ea-853d-15fc86e17be0",
   "metadata": {},
   "outputs": [
    {
     "data": {
      "text/html": [
       "<div>\n",
       "<style scoped>\n",
       "    .dataframe tbody tr th:only-of-type {\n",
       "        vertical-align: middle;\n",
       "    }\n",
       "\n",
       "    .dataframe tbody tr th {\n",
       "        vertical-align: top;\n",
       "    }\n",
       "\n",
       "    .dataframe thead th {\n",
       "        text-align: right;\n",
       "    }\n",
       "</style>\n",
       "<table border=\"1\" class=\"dataframe\">\n",
       "  <thead>\n",
       "    <tr style=\"text-align: right;\">\n",
       "      <th></th>\n",
       "      <th>App</th>\n",
       "      <th>Category</th>\n",
       "      <th>Rating</th>\n",
       "      <th>Reviews</th>\n",
       "      <th>Size</th>\n",
       "      <th>Installs</th>\n",
       "      <th>Type</th>\n",
       "      <th>Price</th>\n",
       "      <th>Content Rating</th>\n",
       "      <th>Genres</th>\n",
       "      <th>Last Updated</th>\n",
       "      <th>Current Ver</th>\n",
       "      <th>Android Ver</th>\n",
       "    </tr>\n",
       "  </thead>\n",
       "  <tbody>\n",
       "    <tr>\n",
       "      <th>count</th>\n",
       "      <td>10841</td>\n",
       "      <td>10841</td>\n",
       "      <td>9367.000000</td>\n",
       "      <td>10841</td>\n",
       "      <td>10841</td>\n",
       "      <td>10841</td>\n",
       "      <td>10840</td>\n",
       "      <td>10841</td>\n",
       "      <td>10840</td>\n",
       "      <td>10841</td>\n",
       "      <td>10841</td>\n",
       "      <td>10833</td>\n",
       "      <td>10838</td>\n",
       "    </tr>\n",
       "    <tr>\n",
       "      <th>unique</th>\n",
       "      <td>9660</td>\n",
       "      <td>34</td>\n",
       "      <td>NaN</td>\n",
       "      <td>6002</td>\n",
       "      <td>462</td>\n",
       "      <td>22</td>\n",
       "      <td>3</td>\n",
       "      <td>93</td>\n",
       "      <td>6</td>\n",
       "      <td>120</td>\n",
       "      <td>1378</td>\n",
       "      <td>2832</td>\n",
       "      <td>33</td>\n",
       "    </tr>\n",
       "    <tr>\n",
       "      <th>top</th>\n",
       "      <td>ROBLOX</td>\n",
       "      <td>FAMILY</td>\n",
       "      <td>NaN</td>\n",
       "      <td>0</td>\n",
       "      <td>Varies with device</td>\n",
       "      <td>1,000,000+</td>\n",
       "      <td>Free</td>\n",
       "      <td>0</td>\n",
       "      <td>Everyone</td>\n",
       "      <td>Tools</td>\n",
       "      <td>August 3, 2018</td>\n",
       "      <td>Varies with device</td>\n",
       "      <td>4.1 and up</td>\n",
       "    </tr>\n",
       "    <tr>\n",
       "      <th>freq</th>\n",
       "      <td>9</td>\n",
       "      <td>1972</td>\n",
       "      <td>NaN</td>\n",
       "      <td>596</td>\n",
       "      <td>1695</td>\n",
       "      <td>1579</td>\n",
       "      <td>10039</td>\n",
       "      <td>10040</td>\n",
       "      <td>8714</td>\n",
       "      <td>842</td>\n",
       "      <td>326</td>\n",
       "      <td>1459</td>\n",
       "      <td>2451</td>\n",
       "    </tr>\n",
       "    <tr>\n",
       "      <th>mean</th>\n",
       "      <td>NaN</td>\n",
       "      <td>NaN</td>\n",
       "      <td>4.193338</td>\n",
       "      <td>NaN</td>\n",
       "      <td>NaN</td>\n",
       "      <td>NaN</td>\n",
       "      <td>NaN</td>\n",
       "      <td>NaN</td>\n",
       "      <td>NaN</td>\n",
       "      <td>NaN</td>\n",
       "      <td>NaN</td>\n",
       "      <td>NaN</td>\n",
       "      <td>NaN</td>\n",
       "    </tr>\n",
       "    <tr>\n",
       "      <th>std</th>\n",
       "      <td>NaN</td>\n",
       "      <td>NaN</td>\n",
       "      <td>0.537431</td>\n",
       "      <td>NaN</td>\n",
       "      <td>NaN</td>\n",
       "      <td>NaN</td>\n",
       "      <td>NaN</td>\n",
       "      <td>NaN</td>\n",
       "      <td>NaN</td>\n",
       "      <td>NaN</td>\n",
       "      <td>NaN</td>\n",
       "      <td>NaN</td>\n",
       "      <td>NaN</td>\n",
       "    </tr>\n",
       "    <tr>\n",
       "      <th>min</th>\n",
       "      <td>NaN</td>\n",
       "      <td>NaN</td>\n",
       "      <td>1.000000</td>\n",
       "      <td>NaN</td>\n",
       "      <td>NaN</td>\n",
       "      <td>NaN</td>\n",
       "      <td>NaN</td>\n",
       "      <td>NaN</td>\n",
       "      <td>NaN</td>\n",
       "      <td>NaN</td>\n",
       "      <td>NaN</td>\n",
       "      <td>NaN</td>\n",
       "      <td>NaN</td>\n",
       "    </tr>\n",
       "    <tr>\n",
       "      <th>25%</th>\n",
       "      <td>NaN</td>\n",
       "      <td>NaN</td>\n",
       "      <td>4.000000</td>\n",
       "      <td>NaN</td>\n",
       "      <td>NaN</td>\n",
       "      <td>NaN</td>\n",
       "      <td>NaN</td>\n",
       "      <td>NaN</td>\n",
       "      <td>NaN</td>\n",
       "      <td>NaN</td>\n",
       "      <td>NaN</td>\n",
       "      <td>NaN</td>\n",
       "      <td>NaN</td>\n",
       "    </tr>\n",
       "    <tr>\n",
       "      <th>50%</th>\n",
       "      <td>NaN</td>\n",
       "      <td>NaN</td>\n",
       "      <td>4.300000</td>\n",
       "      <td>NaN</td>\n",
       "      <td>NaN</td>\n",
       "      <td>NaN</td>\n",
       "      <td>NaN</td>\n",
       "      <td>NaN</td>\n",
       "      <td>NaN</td>\n",
       "      <td>NaN</td>\n",
       "      <td>NaN</td>\n",
       "      <td>NaN</td>\n",
       "      <td>NaN</td>\n",
       "    </tr>\n",
       "    <tr>\n",
       "      <th>75%</th>\n",
       "      <td>NaN</td>\n",
       "      <td>NaN</td>\n",
       "      <td>4.500000</td>\n",
       "      <td>NaN</td>\n",
       "      <td>NaN</td>\n",
       "      <td>NaN</td>\n",
       "      <td>NaN</td>\n",
       "      <td>NaN</td>\n",
       "      <td>NaN</td>\n",
       "      <td>NaN</td>\n",
       "      <td>NaN</td>\n",
       "      <td>NaN</td>\n",
       "      <td>NaN</td>\n",
       "    </tr>\n",
       "    <tr>\n",
       "      <th>max</th>\n",
       "      <td>NaN</td>\n",
       "      <td>NaN</td>\n",
       "      <td>19.000000</td>\n",
       "      <td>NaN</td>\n",
       "      <td>NaN</td>\n",
       "      <td>NaN</td>\n",
       "      <td>NaN</td>\n",
       "      <td>NaN</td>\n",
       "      <td>NaN</td>\n",
       "      <td>NaN</td>\n",
       "      <td>NaN</td>\n",
       "      <td>NaN</td>\n",
       "      <td>NaN</td>\n",
       "    </tr>\n",
       "  </tbody>\n",
       "</table>\n",
       "</div>"
      ],
      "text/plain": [
       "           App Category       Rating Reviews                Size    Installs  \\\n",
       "count    10841    10841  9367.000000   10841               10841       10841   \n",
       "unique    9660       34          NaN    6002                 462          22   \n",
       "top     ROBLOX   FAMILY          NaN       0  Varies with device  1,000,000+   \n",
       "freq         9     1972          NaN     596                1695        1579   \n",
       "mean       NaN      NaN     4.193338     NaN                 NaN         NaN   \n",
       "std        NaN      NaN     0.537431     NaN                 NaN         NaN   \n",
       "min        NaN      NaN     1.000000     NaN                 NaN         NaN   \n",
       "25%        NaN      NaN     4.000000     NaN                 NaN         NaN   \n",
       "50%        NaN      NaN     4.300000     NaN                 NaN         NaN   \n",
       "75%        NaN      NaN     4.500000     NaN                 NaN         NaN   \n",
       "max        NaN      NaN    19.000000     NaN                 NaN         NaN   \n",
       "\n",
       "         Type  Price Content Rating Genres    Last Updated  \\\n",
       "count   10840  10841          10840  10841           10841   \n",
       "unique      3     93              6    120            1378   \n",
       "top      Free      0       Everyone  Tools  August 3, 2018   \n",
       "freq    10039  10040           8714    842             326   \n",
       "mean      NaN    NaN            NaN    NaN             NaN   \n",
       "std       NaN    NaN            NaN    NaN             NaN   \n",
       "min       NaN    NaN            NaN    NaN             NaN   \n",
       "25%       NaN    NaN            NaN    NaN             NaN   \n",
       "50%       NaN    NaN            NaN    NaN             NaN   \n",
       "75%       NaN    NaN            NaN    NaN             NaN   \n",
       "max       NaN    NaN            NaN    NaN             NaN   \n",
       "\n",
       "               Current Ver Android Ver  \n",
       "count                10833       10838  \n",
       "unique                2832          33  \n",
       "top     Varies with device  4.1 and up  \n",
       "freq                  1459        2451  \n",
       "mean                   NaN         NaN  \n",
       "std                    NaN         NaN  \n",
       "min                    NaN         NaN  \n",
       "25%                    NaN         NaN  \n",
       "50%                    NaN         NaN  \n",
       "75%                    NaN         NaN  \n",
       "max                    NaN         NaN  "
      ]
     },
     "execution_count": 9,
     "metadata": {},
     "output_type": "execute_result"
    }
   ],
   "source": [
    "data.describe(include = 'all')"
   ]
  },
  {
   "cell_type": "markdown",
   "id": "5aeb73ef-b493-40be-a94c-7e866bb1e35e",
   "metadata": {},
   "source": [
    "### 6.Total Number of App Titles contain Astrology"
   ]
  },
  {
   "cell_type": "code",
   "execution_count": 10,
   "id": "c58bd383-91bb-44f7-b690-4f8e046a8931",
   "metadata": {},
   "outputs": [
    {
     "data": {
      "text/plain": [
       "Index(['App', 'Category', 'Rating', 'Reviews', 'Size', 'Installs', 'Type',\n",
       "       'Price', 'Content Rating', 'Genres', 'Last Updated', 'Current Ver',\n",
       "       'Android Ver'],\n",
       "      dtype='object')"
      ]
     },
     "execution_count": 10,
     "metadata": {},
     "output_type": "execute_result"
    }
   ],
   "source": [
    "data.columns"
   ]
  },
  {
   "cell_type": "code",
   "execution_count": 15,
   "id": "154571c7-ed1c-4204-b992-5a3734678554",
   "metadata": {},
   "outputs": [
    {
     "data": {
      "text/plain": [
       "3"
      ]
     },
     "execution_count": 15,
     "metadata": {},
     "output_type": "execute_result"
    }
   ],
   "source": [
    "len(data[data['App'].str.contains('Astrology',case=False)])"
   ]
  },
  {
   "cell_type": "code",
   "execution_count": 16,
   "id": "32de4533-5214-41e0-bb8c-ef7dfff6b257",
   "metadata": {},
   "outputs": [
    {
     "data": {
      "text/html": [
       "<div>\n",
       "<style scoped>\n",
       "    .dataframe tbody tr th:only-of-type {\n",
       "        vertical-align: middle;\n",
       "    }\n",
       "\n",
       "    .dataframe tbody tr th {\n",
       "        vertical-align: top;\n",
       "    }\n",
       "\n",
       "    .dataframe thead th {\n",
       "        text-align: right;\n",
       "    }\n",
       "</style>\n",
       "<table border=\"1\" class=\"dataframe\">\n",
       "  <thead>\n",
       "    <tr style=\"text-align: right;\">\n",
       "      <th></th>\n",
       "      <th>App</th>\n",
       "      <th>Category</th>\n",
       "      <th>Rating</th>\n",
       "      <th>Reviews</th>\n",
       "      <th>Size</th>\n",
       "      <th>Installs</th>\n",
       "      <th>Type</th>\n",
       "      <th>Price</th>\n",
       "      <th>Content Rating</th>\n",
       "      <th>Genres</th>\n",
       "      <th>Last Updated</th>\n",
       "      <th>Current Ver</th>\n",
       "      <th>Android Ver</th>\n",
       "    </tr>\n",
       "  </thead>\n",
       "  <tbody>\n",
       "    <tr>\n",
       "      <th>1570</th>\n",
       "      <td>Horoscopes – Daily Zodiac Horoscope and Astrology</td>\n",
       "      <td>LIFESTYLE</td>\n",
       "      <td>4.6</td>\n",
       "      <td>161143</td>\n",
       "      <td>11M</td>\n",
       "      <td>10,000,000+</td>\n",
       "      <td>Free</td>\n",
       "      <td>0</td>\n",
       "      <td>Everyone 10+</td>\n",
       "      <td>Lifestyle</td>\n",
       "      <td>June 25, 2018</td>\n",
       "      <td>5.2.4(881)</td>\n",
       "      <td>4.0.3 and up</td>\n",
       "    </tr>\n",
       "    <tr>\n",
       "      <th>1592</th>\n",
       "      <td>သိင်္ Astrology - Min Thein Kha BayDin</td>\n",
       "      <td>LIFESTYLE</td>\n",
       "      <td>4.7</td>\n",
       "      <td>2225</td>\n",
       "      <td>15M</td>\n",
       "      <td>100,000+</td>\n",
       "      <td>Free</td>\n",
       "      <td>0</td>\n",
       "      <td>Everyone</td>\n",
       "      <td>Lifestyle</td>\n",
       "      <td>July 26, 2018</td>\n",
       "      <td>4.2.1</td>\n",
       "      <td>4.0.3 and up</td>\n",
       "    </tr>\n",
       "    <tr>\n",
       "      <th>10840</th>\n",
       "      <td>iHoroscope - 2018 Daily Horoscope &amp; Astrology</td>\n",
       "      <td>LIFESTYLE</td>\n",
       "      <td>4.5</td>\n",
       "      <td>398307</td>\n",
       "      <td>19M</td>\n",
       "      <td>10,000,000+</td>\n",
       "      <td>Free</td>\n",
       "      <td>0</td>\n",
       "      <td>Everyone</td>\n",
       "      <td>Lifestyle</td>\n",
       "      <td>July 25, 2018</td>\n",
       "      <td>Varies with device</td>\n",
       "      <td>Varies with device</td>\n",
       "    </tr>\n",
       "  </tbody>\n",
       "</table>\n",
       "</div>"
      ],
      "text/plain": [
       "                                                     App   Category  Rating  \\\n",
       "1570   Horoscopes – Daily Zodiac Horoscope and Astrology  LIFESTYLE     4.6   \n",
       "1592              သိင်္ Astrology - Min Thein Kha BayDin  LIFESTYLE     4.7   \n",
       "10840      iHoroscope - 2018 Daily Horoscope & Astrology  LIFESTYLE     4.5   \n",
       "\n",
       "      Reviews Size     Installs  Type Price Content Rating     Genres  \\\n",
       "1570   161143  11M  10,000,000+  Free     0   Everyone 10+  Lifestyle   \n",
       "1592     2225  15M     100,000+  Free     0       Everyone  Lifestyle   \n",
       "10840  398307  19M  10,000,000+  Free     0       Everyone  Lifestyle   \n",
       "\n",
       "        Last Updated         Current Ver         Android Ver  \n",
       "1570   June 25, 2018          5.2.4(881)        4.0.3 and up  \n",
       "1592   July 26, 2018               4.2.1        4.0.3 and up  \n",
       "10840  July 25, 2018  Varies with device  Varies with device  "
      ]
     },
     "execution_count": 16,
     "metadata": {},
     "output_type": "execute_result"
    }
   ],
   "source": [
    "data[data['App'].str.contains('Astrology',case=False)]"
   ]
  },
  {
   "cell_type": "markdown",
   "id": "184a7e06-442b-4531-8557-27b5e0dab790",
   "metadata": {},
   "source": [
    "### 7.Average App Rating"
   ]
  },
  {
   "cell_type": "code",
   "execution_count": 17,
   "id": "3831444c-aa1c-483d-a4c9-ab65d016ba69",
   "metadata": {},
   "outputs": [
    {
     "data": {
      "text/plain": [
       "Index(['App', 'Category', 'Rating', 'Reviews', 'Size', 'Installs', 'Type',\n",
       "       'Price', 'Content Rating', 'Genres', 'Last Updated', 'Current Ver',\n",
       "       'Android Ver'],\n",
       "      dtype='object')"
      ]
     },
     "execution_count": 17,
     "metadata": {},
     "output_type": "execute_result"
    }
   ],
   "source": [
    "data.columns"
   ]
  },
  {
   "cell_type": "code",
   "execution_count": 18,
   "id": "e9cdfb15-798e-44ec-9037-43d3f963941e",
   "metadata": {},
   "outputs": [
    {
     "data": {
      "text/plain": [
       "4.193338315362443"
      ]
     },
     "execution_count": 18,
     "metadata": {},
     "output_type": "execute_result"
    }
   ],
   "source": [
    "data['Rating'].mean()"
   ]
  },
  {
   "cell_type": "markdown",
   "id": "b7a48ce2-1d66-45b6-9d38-3fe3f328da16",
   "metadata": {},
   "source": [
    "### 8.Find Total Number of Unique Category"
   ]
  },
  {
   "cell_type": "code",
   "execution_count": 19,
   "id": "b59466ec-9023-44c3-b946-b0bda7e7268e",
   "metadata": {},
   "outputs": [
    {
     "data": {
      "text/plain": [
       "Index(['App', 'Category', 'Rating', 'Reviews', 'Size', 'Installs', 'Type',\n",
       "       'Price', 'Content Rating', 'Genres', 'Last Updated', 'Current Ver',\n",
       "       'Android Ver'],\n",
       "      dtype='object')"
      ]
     },
     "execution_count": 19,
     "metadata": {},
     "output_type": "execute_result"
    }
   ],
   "source": [
    "data.columns"
   ]
  },
  {
   "cell_type": "code",
   "execution_count": 20,
   "id": "593fd401-304a-48a5-a04a-7fbff71b6d94",
   "metadata": {},
   "outputs": [
    {
     "data": {
      "text/plain": [
       "34"
      ]
     },
     "execution_count": 20,
     "metadata": {},
     "output_type": "execute_result"
    }
   ],
   "source": [
    "data['Category'].nunique()"
   ]
  },
  {
   "cell_type": "markdown",
   "id": "246efbfa-9d4e-4d55-bc00-47740ef8c489",
   "metadata": {},
   "source": [
    "### 9.Which Category Getting The Highest Average Rating?"
   ]
  },
  {
   "cell_type": "code",
   "execution_count": 21,
   "id": "f5ca975d-585c-4af4-bde5-e73ca064dbab",
   "metadata": {},
   "outputs": [
    {
     "data": {
      "text/plain": [
       "Category\n",
       "1.9                    19.000000\n",
       "EVENTS                  4.435556\n",
       "EDUCATION               4.389032\n",
       "ART_AND_DESIGN          4.358065\n",
       "BOOKS_AND_REFERENCE     4.346067\n",
       "PERSONALIZATION         4.335987\n",
       "PARENTING               4.300000\n",
       "GAME                    4.286326\n",
       "BEAUTY                  4.278571\n",
       "HEALTH_AND_FITNESS      4.277104\n",
       "SHOPPING                4.259664\n",
       "SOCIAL                  4.255598\n",
       "WEATHER                 4.244000\n",
       "SPORTS                  4.223511\n",
       "PRODUCTIVITY            4.211396\n",
       "HOUSE_AND_HOME          4.197368\n",
       "FAMILY                  4.192272\n",
       "PHOTOGRAPHY             4.192114\n",
       "AUTO_AND_VEHICLES       4.190411\n",
       "MEDICAL                 4.189143\n",
       "LIBRARIES_AND_DEMO      4.178462\n",
       "FOOD_AND_DRINK          4.166972\n",
       "COMMUNICATION           4.158537\n",
       "COMICS                  4.155172\n",
       "NEWS_AND_MAGAZINES      4.132189\n",
       "FINANCE                 4.131889\n",
       "ENTERTAINMENT           4.126174\n",
       "BUSINESS                4.121452\n",
       "TRAVEL_AND_LOCAL        4.109292\n",
       "LIFESTYLE               4.094904\n",
       "VIDEO_PLAYERS           4.063750\n",
       "MAPS_AND_NAVIGATION     4.051613\n",
       "TOOLS                   4.047411\n",
       "DATING                  3.970769\n",
       "Name: Rating, dtype: float64"
      ]
     },
     "execution_count": 21,
     "metadata": {},
     "output_type": "execute_result"
    }
   ],
   "source": [
    "data.groupby('Category')['Rating'].mean().sort_values(ascending=False)"
   ]
  },
  {
   "cell_type": "markdown",
   "id": "026c5c25-afb2-49aa-9907-a0a51cbf6109",
   "metadata": {},
   "source": [
    "### 10.Total Number of Apps having 5 Star Rating"
   ]
  },
  {
   "cell_type": "code",
   "execution_count": 23,
   "id": "1f494f5b-cc19-4834-9ab8-aa7aecd6590c",
   "metadata": {},
   "outputs": [
    {
     "data": {
      "text/plain": [
       "274"
      ]
     },
     "execution_count": 23,
     "metadata": {},
     "output_type": "execute_result"
    }
   ],
   "source": [
    "len(data[data['Rating']==5.0])"
   ]
  },
  {
   "cell_type": "markdown",
   "id": "1be1578f-a534-4655-9cd1-fa55eb59736d",
   "metadata": {},
   "source": [
    "### 11.Average Value of Reviews"
   ]
  },
  {
   "cell_type": "code",
   "execution_count": 25,
   "id": "ac48e1a5-4147-4e8a-8ce9-476d8c0138fb",
   "metadata": {},
   "outputs": [
    {
     "data": {
      "text/html": [
       "<div>\n",
       "<style scoped>\n",
       "    .dataframe tbody tr th:only-of-type {\n",
       "        vertical-align: middle;\n",
       "    }\n",
       "\n",
       "    .dataframe tbody tr th {\n",
       "        vertical-align: top;\n",
       "    }\n",
       "\n",
       "    .dataframe thead th {\n",
       "        text-align: right;\n",
       "    }\n",
       "</style>\n",
       "<table border=\"1\" class=\"dataframe\">\n",
       "  <thead>\n",
       "    <tr style=\"text-align: right;\">\n",
       "      <th></th>\n",
       "      <th>App</th>\n",
       "      <th>Category</th>\n",
       "      <th>Rating</th>\n",
       "      <th>Reviews</th>\n",
       "      <th>Size</th>\n",
       "      <th>Installs</th>\n",
       "      <th>Type</th>\n",
       "      <th>Price</th>\n",
       "      <th>Content Rating</th>\n",
       "      <th>Genres</th>\n",
       "      <th>Last Updated</th>\n",
       "      <th>Current Ver</th>\n",
       "      <th>Android Ver</th>\n",
       "    </tr>\n",
       "  </thead>\n",
       "  <tbody>\n",
       "    <tr>\n",
       "      <th>10472</th>\n",
       "      <td>Life Made WI-Fi Touchscreen Photo Frame</td>\n",
       "      <td>1.9</td>\n",
       "      <td>19.0</td>\n",
       "      <td>3.0M</td>\n",
       "      <td>1,000+</td>\n",
       "      <td>Free</td>\n",
       "      <td>0</td>\n",
       "      <td>Everyone</td>\n",
       "      <td>NaN</td>\n",
       "      <td>February 11, 2018</td>\n",
       "      <td>1.0.19</td>\n",
       "      <td>4.0 and up</td>\n",
       "      <td>NaN</td>\n",
       "    </tr>\n",
       "  </tbody>\n",
       "</table>\n",
       "</div>"
      ],
      "text/plain": [
       "                                           App Category  Rating Reviews  \\\n",
       "10472  Life Made WI-Fi Touchscreen Photo Frame      1.9    19.0    3.0M   \n",
       "\n",
       "         Size Installs Type     Price Content Rating             Genres  \\\n",
       "10472  1,000+     Free    0  Everyone            NaN  February 11, 2018   \n",
       "\n",
       "      Last Updated Current Ver Android Ver  \n",
       "10472       1.0.19  4.0 and up         NaN  "
      ]
     },
     "execution_count": 25,
     "metadata": {},
     "output_type": "execute_result"
    }
   ],
   "source": [
    "data[data['Reviews']=='3.0M']"
   ]
  },
  {
   "cell_type": "code",
   "execution_count": 26,
   "id": "5cb3e7f3-ee79-4a41-ad26-adc39f76f54f",
   "metadata": {},
   "outputs": [],
   "source": [
    "data['Reviews'] = data['Reviews'].replace('3.0M',3.0)"
   ]
  },
  {
   "cell_type": "code",
   "execution_count": 27,
   "id": "da253228-1cf7-42ff-9093-2fd8dc803e32",
   "metadata": {},
   "outputs": [],
   "source": [
    "data['Reviews'] = data['Reviews'].astype('float')"
   ]
  },
  {
   "cell_type": "code",
   "execution_count": 28,
   "id": "417da960-d8f4-45a2-b5d9-9b203c8a5669",
   "metadata": {},
   "outputs": [
    {
     "data": {
      "text/plain": [
       "dtype('float64')"
      ]
     },
     "execution_count": 28,
     "metadata": {},
     "output_type": "execute_result"
    }
   ],
   "source": [
    "data['Reviews'].dtype"
   ]
  },
  {
   "cell_type": "code",
   "execution_count": 30,
   "id": "16bdbf5f-186e-4653-8c6f-0e58ca2b2dcf",
   "metadata": {},
   "outputs": [
    {
     "data": {
      "text/plain": [
       "444111.9265750392"
      ]
     },
     "execution_count": 30,
     "metadata": {},
     "output_type": "execute_result"
    }
   ],
   "source": [
    "data['Reviews'].mean()"
   ]
  },
  {
   "cell_type": "markdown",
   "id": "ec24d09c-3aa2-44a0-9493-2df8ce36787e",
   "metadata": {},
   "source": [
    "### 12.Total Number of Free and Paid Apps"
   ]
  },
  {
   "cell_type": "code",
   "execution_count": 32,
   "id": "c957241a-f9a7-47b6-b850-093712f9892e",
   "metadata": {},
   "outputs": [
    {
     "data": {
      "text/html": [
       "<div>\n",
       "<style scoped>\n",
       "    .dataframe tbody tr th:only-of-type {\n",
       "        vertical-align: middle;\n",
       "    }\n",
       "\n",
       "    .dataframe tbody tr th {\n",
       "        vertical-align: top;\n",
       "    }\n",
       "\n",
       "    .dataframe thead th {\n",
       "        text-align: right;\n",
       "    }\n",
       "</style>\n",
       "<table border=\"1\" class=\"dataframe\">\n",
       "  <thead>\n",
       "    <tr style=\"text-align: right;\">\n",
       "      <th></th>\n",
       "      <th>App</th>\n",
       "      <th>Category</th>\n",
       "      <th>Rating</th>\n",
       "      <th>Reviews</th>\n",
       "      <th>Size</th>\n",
       "      <th>Installs</th>\n",
       "      <th>Type</th>\n",
       "      <th>Price</th>\n",
       "      <th>Content Rating</th>\n",
       "      <th>Genres</th>\n",
       "      <th>Last Updated</th>\n",
       "      <th>Current Ver</th>\n",
       "      <th>Android Ver</th>\n",
       "    </tr>\n",
       "  </thead>\n",
       "  <tbody>\n",
       "    <tr>\n",
       "      <th>0</th>\n",
       "      <td>Photo Editor &amp; Candy Camera &amp; Grid &amp; ScrapBook</td>\n",
       "      <td>ART_AND_DESIGN</td>\n",
       "      <td>4.1</td>\n",
       "      <td>159.0</td>\n",
       "      <td>19M</td>\n",
       "      <td>10,000+</td>\n",
       "      <td>Free</td>\n",
       "      <td>0</td>\n",
       "      <td>Everyone</td>\n",
       "      <td>Art &amp; Design</td>\n",
       "      <td>January 7, 2018</td>\n",
       "      <td>1.0.0</td>\n",
       "      <td>4.0.3 and up</td>\n",
       "    </tr>\n",
       "  </tbody>\n",
       "</table>\n",
       "</div>"
      ],
      "text/plain": [
       "                                              App        Category  Rating  \\\n",
       "0  Photo Editor & Candy Camera & Grid & ScrapBook  ART_AND_DESIGN     4.1   \n",
       "\n",
       "   Reviews Size Installs  Type Price Content Rating        Genres  \\\n",
       "0    159.0  19M  10,000+  Free     0       Everyone  Art & Design   \n",
       "\n",
       "      Last Updated Current Ver   Android Ver  \n",
       "0  January 7, 2018       1.0.0  4.0.3 and up  "
      ]
     },
     "execution_count": 32,
     "metadata": {},
     "output_type": "execute_result"
    }
   ],
   "source": [
    "data.head(1)"
   ]
  },
  {
   "cell_type": "code",
   "execution_count": 31,
   "id": "d4cda5cf-f3c6-41c4-9059-00641b094003",
   "metadata": {},
   "outputs": [
    {
     "data": {
      "text/plain": [
       "Type\n",
       "Free    10039\n",
       "Paid      800\n",
       "0           1\n",
       "Name: count, dtype: int64"
      ]
     },
     "execution_count": 31,
     "metadata": {},
     "output_type": "execute_result"
    }
   ],
   "source": [
    "data['Type'].value_counts()"
   ]
  },
  {
   "cell_type": "markdown",
   "id": "c8bb8952-55ab-4c81-b31d-bbabe8486eb4",
   "metadata": {},
   "source": [
    "### 13.Which App has Maximum Reviews?"
   ]
  },
  {
   "cell_type": "code",
   "execution_count": 33,
   "id": "4c2e37b6-20d8-4318-aa61-a3cb89aea9b3",
   "metadata": {},
   "outputs": [
    {
     "data": {
      "text/html": [
       "<div>\n",
       "<style scoped>\n",
       "    .dataframe tbody tr th:only-of-type {\n",
       "        vertical-align: middle;\n",
       "    }\n",
       "\n",
       "    .dataframe tbody tr th {\n",
       "        vertical-align: top;\n",
       "    }\n",
       "\n",
       "    .dataframe thead th {\n",
       "        text-align: right;\n",
       "    }\n",
       "</style>\n",
       "<table border=\"1\" class=\"dataframe\">\n",
       "  <thead>\n",
       "    <tr style=\"text-align: right;\">\n",
       "      <th></th>\n",
       "      <th>App</th>\n",
       "      <th>Category</th>\n",
       "      <th>Rating</th>\n",
       "      <th>Reviews</th>\n",
       "      <th>Size</th>\n",
       "      <th>Installs</th>\n",
       "      <th>Type</th>\n",
       "      <th>Price</th>\n",
       "      <th>Content Rating</th>\n",
       "      <th>Genres</th>\n",
       "      <th>Last Updated</th>\n",
       "      <th>Current Ver</th>\n",
       "      <th>Android Ver</th>\n",
       "    </tr>\n",
       "  </thead>\n",
       "  <tbody>\n",
       "    <tr>\n",
       "      <th>2544</th>\n",
       "      <td>Facebook</td>\n",
       "      <td>SOCIAL</td>\n",
       "      <td>4.1</td>\n",
       "      <td>78158306.0</td>\n",
       "      <td>Varies with device</td>\n",
       "      <td>1,000,000,000+</td>\n",
       "      <td>Free</td>\n",
       "      <td>0</td>\n",
       "      <td>Teen</td>\n",
       "      <td>Social</td>\n",
       "      <td>August 3, 2018</td>\n",
       "      <td>Varies with device</td>\n",
       "      <td>Varies with device</td>\n",
       "    </tr>\n",
       "  </tbody>\n",
       "</table>\n",
       "</div>"
      ],
      "text/plain": [
       "           App Category  Rating     Reviews                Size  \\\n",
       "2544  Facebook   SOCIAL     4.1  78158306.0  Varies with device   \n",
       "\n",
       "            Installs  Type Price Content Rating  Genres    Last Updated  \\\n",
       "2544  1,000,000,000+  Free     0           Teen  Social  August 3, 2018   \n",
       "\n",
       "             Current Ver         Android Ver  \n",
       "2544  Varies with device  Varies with device  "
      ]
     },
     "execution_count": 33,
     "metadata": {},
     "output_type": "execute_result"
    }
   ],
   "source": [
    "data[data['Reviews'].max()==data['Reviews']]"
   ]
  },
  {
   "cell_type": "markdown",
   "id": "c1563ce6-22cd-4698-9170-82611da7b2d3",
   "metadata": {},
   "source": [
    "### 14.Top 5 Apps Having Highest Reviews"
   ]
  },
  {
   "cell_type": "code",
   "execution_count": 36,
   "id": "6f5ec69a-c0ca-476f-b976-af57d4dd8fc4",
   "metadata": {},
   "outputs": [],
   "source": [
    "index = data['Reviews'].sort_values(ascending=False).head().index"
   ]
  },
  {
   "cell_type": "code",
   "execution_count": 37,
   "id": "85782c86-eb0c-4f38-992d-838ff7cef5ea",
   "metadata": {},
   "outputs": [
    {
     "data": {
      "text/plain": [
       "2544              Facebook\n",
       "3943              Facebook\n",
       "381     WhatsApp Messenger\n",
       "336     WhatsApp Messenger\n",
       "3904    WhatsApp Messenger\n",
       "Name: App, dtype: object"
      ]
     },
     "execution_count": 37,
     "metadata": {},
     "output_type": "execute_result"
    }
   ],
   "source": [
    "data.iloc[index]['App']"
   ]
  },
  {
   "cell_type": "markdown",
   "id": "bfa5a520-150d-4634-9c48-87c1bc42e0d6",
   "metadata": {},
   "source": [
    "### 15.Average Rating of Free and Paid Apps"
   ]
  },
  {
   "cell_type": "code",
   "execution_count": 38,
   "id": "d25fe3bf-4306-495c-8152-de896bbf8bf6",
   "metadata": {},
   "outputs": [
    {
     "data": {
      "text/plain": [
       "Type\n",
       "0       19.000000\n",
       "Free     4.186203\n",
       "Paid     4.266615\n",
       "Name: Rating, dtype: float64"
      ]
     },
     "execution_count": 38,
     "metadata": {},
     "output_type": "execute_result"
    }
   ],
   "source": [
    "data.groupby('Type')['Rating'].mean()"
   ]
  },
  {
   "cell_type": "markdown",
   "id": "5e521203-b2b2-42fd-a259-e529bfad9ca8",
   "metadata": {},
   "source": [
    "### 16.Top 5 Apps having Maximum Installs"
   ]
  },
  {
   "cell_type": "code",
   "execution_count": 40,
   "id": "5e595e1b-1db4-4efc-8472-fbce1b3b9fbc",
   "metadata": {},
   "outputs": [],
   "source": [
    "data['Installs_1']= data['Installs'].str.replace(',','')"
   ]
  },
  {
   "cell_type": "code",
   "execution_count": 41,
   "id": "a29a9a4b-dbca-43d8-826e-37403e5b6820",
   "metadata": {},
   "outputs": [
    {
     "data": {
      "text/html": [
       "<div>\n",
       "<style scoped>\n",
       "    .dataframe tbody tr th:only-of-type {\n",
       "        vertical-align: middle;\n",
       "    }\n",
       "\n",
       "    .dataframe tbody tr th {\n",
       "        vertical-align: top;\n",
       "    }\n",
       "\n",
       "    .dataframe thead th {\n",
       "        text-align: right;\n",
       "    }\n",
       "</style>\n",
       "<table border=\"1\" class=\"dataframe\">\n",
       "  <thead>\n",
       "    <tr style=\"text-align: right;\">\n",
       "      <th></th>\n",
       "      <th>App</th>\n",
       "      <th>Category</th>\n",
       "      <th>Rating</th>\n",
       "      <th>Reviews</th>\n",
       "      <th>Size</th>\n",
       "      <th>Installs</th>\n",
       "      <th>Type</th>\n",
       "      <th>Price</th>\n",
       "      <th>Content Rating</th>\n",
       "      <th>Genres</th>\n",
       "      <th>Last Updated</th>\n",
       "      <th>Current Ver</th>\n",
       "      <th>Android Ver</th>\n",
       "      <th>Installs_1</th>\n",
       "    </tr>\n",
       "  </thead>\n",
       "  <tbody>\n",
       "    <tr>\n",
       "      <th>0</th>\n",
       "      <td>Photo Editor &amp; Candy Camera &amp; Grid &amp; ScrapBook</td>\n",
       "      <td>ART_AND_DESIGN</td>\n",
       "      <td>4.1</td>\n",
       "      <td>159.0</td>\n",
       "      <td>19M</td>\n",
       "      <td>10,000+</td>\n",
       "      <td>Free</td>\n",
       "      <td>0</td>\n",
       "      <td>Everyone</td>\n",
       "      <td>Art &amp; Design</td>\n",
       "      <td>January 7, 2018</td>\n",
       "      <td>1.0.0</td>\n",
       "      <td>4.0.3 and up</td>\n",
       "      <td>10000+</td>\n",
       "    </tr>\n",
       "  </tbody>\n",
       "</table>\n",
       "</div>"
      ],
      "text/plain": [
       "                                              App        Category  Rating  \\\n",
       "0  Photo Editor & Candy Camera & Grid & ScrapBook  ART_AND_DESIGN     4.1   \n",
       "\n",
       "   Reviews Size Installs  Type Price Content Rating        Genres  \\\n",
       "0    159.0  19M  10,000+  Free     0       Everyone  Art & Design   \n",
       "\n",
       "      Last Updated Current Ver   Android Ver Installs_1  \n",
       "0  January 7, 2018       1.0.0  4.0.3 and up     10000+  "
      ]
     },
     "execution_count": 41,
     "metadata": {},
     "output_type": "execute_result"
    }
   ],
   "source": [
    "data.head(1)"
   ]
  },
  {
   "cell_type": "code",
   "execution_count": 42,
   "id": "90f36f96-5ece-42b1-ac09-e0595d925dc7",
   "metadata": {},
   "outputs": [],
   "source": [
    "data['Installs_1']= data['Installs_1'].str.replace('+','')"
   ]
  },
  {
   "cell_type": "code",
   "execution_count": 43,
   "id": "e49d465f-c927-44f8-82cb-9be5c1858a88",
   "metadata": {},
   "outputs": [
    {
     "data": {
      "text/html": [
       "<div>\n",
       "<style scoped>\n",
       "    .dataframe tbody tr th:only-of-type {\n",
       "        vertical-align: middle;\n",
       "    }\n",
       "\n",
       "    .dataframe tbody tr th {\n",
       "        vertical-align: top;\n",
       "    }\n",
       "\n",
       "    .dataframe thead th {\n",
       "        text-align: right;\n",
       "    }\n",
       "</style>\n",
       "<table border=\"1\" class=\"dataframe\">\n",
       "  <thead>\n",
       "    <tr style=\"text-align: right;\">\n",
       "      <th></th>\n",
       "      <th>App</th>\n",
       "      <th>Category</th>\n",
       "      <th>Rating</th>\n",
       "      <th>Reviews</th>\n",
       "      <th>Size</th>\n",
       "      <th>Installs</th>\n",
       "      <th>Type</th>\n",
       "      <th>Price</th>\n",
       "      <th>Content Rating</th>\n",
       "      <th>Genres</th>\n",
       "      <th>Last Updated</th>\n",
       "      <th>Current Ver</th>\n",
       "      <th>Android Ver</th>\n",
       "      <th>Installs_1</th>\n",
       "    </tr>\n",
       "  </thead>\n",
       "  <tbody>\n",
       "    <tr>\n",
       "      <th>0</th>\n",
       "      <td>Photo Editor &amp; Candy Camera &amp; Grid &amp; ScrapBook</td>\n",
       "      <td>ART_AND_DESIGN</td>\n",
       "      <td>4.1</td>\n",
       "      <td>159.0</td>\n",
       "      <td>19M</td>\n",
       "      <td>10,000+</td>\n",
       "      <td>Free</td>\n",
       "      <td>0</td>\n",
       "      <td>Everyone</td>\n",
       "      <td>Art &amp; Design</td>\n",
       "      <td>January 7, 2018</td>\n",
       "      <td>1.0.0</td>\n",
       "      <td>4.0.3 and up</td>\n",
       "      <td>10000</td>\n",
       "    </tr>\n",
       "  </tbody>\n",
       "</table>\n",
       "</div>"
      ],
      "text/plain": [
       "                                              App        Category  Rating  \\\n",
       "0  Photo Editor & Candy Camera & Grid & ScrapBook  ART_AND_DESIGN     4.1   \n",
       "\n",
       "   Reviews Size Installs  Type Price Content Rating        Genres  \\\n",
       "0    159.0  19M  10,000+  Free     0       Everyone  Art & Design   \n",
       "\n",
       "      Last Updated Current Ver   Android Ver Installs_1  \n",
       "0  January 7, 2018       1.0.0  4.0.3 and up      10000  "
      ]
     },
     "execution_count": 43,
     "metadata": {},
     "output_type": "execute_result"
    }
   ],
   "source": [
    "data.head(1)"
   ]
  },
  {
   "cell_type": "code",
   "execution_count": 44,
   "id": "e2476247-0b9a-482b-b499-d04065e3714b",
   "metadata": {},
   "outputs": [
    {
     "data": {
      "text/html": [
       "<div>\n",
       "<style scoped>\n",
       "    .dataframe tbody tr th:only-of-type {\n",
       "        vertical-align: middle;\n",
       "    }\n",
       "\n",
       "    .dataframe tbody tr th {\n",
       "        vertical-align: top;\n",
       "    }\n",
       "\n",
       "    .dataframe thead th {\n",
       "        text-align: right;\n",
       "    }\n",
       "</style>\n",
       "<table border=\"1\" class=\"dataframe\">\n",
       "  <thead>\n",
       "    <tr style=\"text-align: right;\">\n",
       "      <th></th>\n",
       "      <th>App</th>\n",
       "      <th>Category</th>\n",
       "      <th>Rating</th>\n",
       "      <th>Reviews</th>\n",
       "      <th>Size</th>\n",
       "      <th>Installs</th>\n",
       "      <th>Type</th>\n",
       "      <th>Price</th>\n",
       "      <th>Content Rating</th>\n",
       "      <th>Genres</th>\n",
       "      <th>Last Updated</th>\n",
       "      <th>Current Ver</th>\n",
       "      <th>Android Ver</th>\n",
       "      <th>Installs_1</th>\n",
       "    </tr>\n",
       "  </thead>\n",
       "  <tbody>\n",
       "    <tr>\n",
       "      <th>10472</th>\n",
       "      <td>Life Made WI-Fi Touchscreen Photo Frame</td>\n",
       "      <td>1.9</td>\n",
       "      <td>19.0</td>\n",
       "      <td>3.0</td>\n",
       "      <td>1,000+</td>\n",
       "      <td>Free</td>\n",
       "      <td>0</td>\n",
       "      <td>Everyone</td>\n",
       "      <td>NaN</td>\n",
       "      <td>February 11, 2018</td>\n",
       "      <td>1.0.19</td>\n",
       "      <td>4.0 and up</td>\n",
       "      <td>NaN</td>\n",
       "      <td>Free</td>\n",
       "    </tr>\n",
       "  </tbody>\n",
       "</table>\n",
       "</div>"
      ],
      "text/plain": [
       "                                           App Category  Rating  Reviews  \\\n",
       "10472  Life Made WI-Fi Touchscreen Photo Frame      1.9    19.0      3.0   \n",
       "\n",
       "         Size Installs Type     Price Content Rating             Genres  \\\n",
       "10472  1,000+     Free    0  Everyone            NaN  February 11, 2018   \n",
       "\n",
       "      Last Updated Current Ver Android Ver Installs_1  \n",
       "10472       1.0.19  4.0 and up         NaN       Free  "
      ]
     },
     "execution_count": 44,
     "metadata": {},
     "output_type": "execute_result"
    }
   ],
   "source": [
    "data[data['Installs_1']=='Free']"
   ]
  },
  {
   "cell_type": "code",
   "execution_count": 45,
   "id": "61f461bf-34b4-4560-9139-b6345a89c913",
   "metadata": {},
   "outputs": [],
   "source": [
    "data['Installs_1']= data['Installs_1'].str.replace('Free','0')"
   ]
  },
  {
   "cell_type": "code",
   "execution_count": 47,
   "id": "fd6e6b6d-79a5-4503-8343-d66d4440b7b7",
   "metadata": {},
   "outputs": [],
   "source": [
    "data['Installs_1']= data['Installs_1'].astype('int')"
   ]
  },
  {
   "cell_type": "code",
   "execution_count": 48,
   "id": "4cb35769-e528-4550-8dbb-1343b8ac108a",
   "metadata": {},
   "outputs": [
    {
     "data": {
      "text/plain": [
       "dtype('int32')"
      ]
     },
     "execution_count": 48,
     "metadata": {},
     "output_type": "execute_result"
    }
   ],
   "source": [
    "data['Installs_1'].dtype"
   ]
  },
  {
   "cell_type": "code",
   "execution_count": 53,
   "id": "2ab2704f-2cb4-436f-85f9-494eaf2c0596",
   "metadata": {},
   "outputs": [],
   "source": [
    "index = data['Installs_1'].sort_values(ascending=False).head().index"
   ]
  },
  {
   "cell_type": "code",
   "execution_count": 55,
   "id": "f41558b3-b335-4903-bd3a-154af802d463",
   "metadata": {},
   "outputs": [
    {
     "data": {
      "text/html": [
       "<div>\n",
       "<style scoped>\n",
       "    .dataframe tbody tr th:only-of-type {\n",
       "        vertical-align: middle;\n",
       "    }\n",
       "\n",
       "    .dataframe tbody tr th {\n",
       "        vertical-align: top;\n",
       "    }\n",
       "\n",
       "    .dataframe thead th {\n",
       "        text-align: right;\n",
       "    }\n",
       "</style>\n",
       "<table border=\"1\" class=\"dataframe\">\n",
       "  <thead>\n",
       "    <tr style=\"text-align: right;\">\n",
       "      <th></th>\n",
       "      <th>App</th>\n",
       "      <th>Category</th>\n",
       "      <th>Rating</th>\n",
       "      <th>Reviews</th>\n",
       "      <th>Size</th>\n",
       "      <th>Installs</th>\n",
       "      <th>Type</th>\n",
       "      <th>Price</th>\n",
       "      <th>Content Rating</th>\n",
       "      <th>Genres</th>\n",
       "      <th>Last Updated</th>\n",
       "      <th>Current Ver</th>\n",
       "      <th>Android Ver</th>\n",
       "      <th>Installs_1</th>\n",
       "    </tr>\n",
       "  </thead>\n",
       "  <tbody>\n",
       "    <tr>\n",
       "      <th>3896</th>\n",
       "      <td>Subway Surfers</td>\n",
       "      <td>GAME</td>\n",
       "      <td>4.5</td>\n",
       "      <td>27711703.0</td>\n",
       "      <td>76M</td>\n",
       "      <td>1,000,000,000+</td>\n",
       "      <td>Free</td>\n",
       "      <td>0</td>\n",
       "      <td>Everyone 10+</td>\n",
       "      <td>Arcade</td>\n",
       "      <td>July 12, 2018</td>\n",
       "      <td>1.90.0</td>\n",
       "      <td>4.1 and up</td>\n",
       "      <td>1000000000</td>\n",
       "    </tr>\n",
       "    <tr>\n",
       "      <th>3943</th>\n",
       "      <td>Facebook</td>\n",
       "      <td>SOCIAL</td>\n",
       "      <td>4.1</td>\n",
       "      <td>78128208.0</td>\n",
       "      <td>Varies with device</td>\n",
       "      <td>1,000,000,000+</td>\n",
       "      <td>Free</td>\n",
       "      <td>0</td>\n",
       "      <td>Teen</td>\n",
       "      <td>Social</td>\n",
       "      <td>August 3, 2018</td>\n",
       "      <td>Varies with device</td>\n",
       "      <td>Varies with device</td>\n",
       "      <td>1000000000</td>\n",
       "    </tr>\n",
       "    <tr>\n",
       "      <th>335</th>\n",
       "      <td>Messenger – Text and Video Chat for Free</td>\n",
       "      <td>COMMUNICATION</td>\n",
       "      <td>4.0</td>\n",
       "      <td>56642847.0</td>\n",
       "      <td>Varies with device</td>\n",
       "      <td>1,000,000,000+</td>\n",
       "      <td>Free</td>\n",
       "      <td>0</td>\n",
       "      <td>Everyone</td>\n",
       "      <td>Communication</td>\n",
       "      <td>August 1, 2018</td>\n",
       "      <td>Varies with device</td>\n",
       "      <td>Varies with device</td>\n",
       "      <td>1000000000</td>\n",
       "    </tr>\n",
       "    <tr>\n",
       "      <th>3523</th>\n",
       "      <td>Google Drive</td>\n",
       "      <td>PRODUCTIVITY</td>\n",
       "      <td>4.4</td>\n",
       "      <td>2731211.0</td>\n",
       "      <td>Varies with device</td>\n",
       "      <td>1,000,000,000+</td>\n",
       "      <td>Free</td>\n",
       "      <td>0</td>\n",
       "      <td>Everyone</td>\n",
       "      <td>Productivity</td>\n",
       "      <td>August 6, 2018</td>\n",
       "      <td>Varies with device</td>\n",
       "      <td>Varies with device</td>\n",
       "      <td>1000000000</td>\n",
       "    </tr>\n",
       "    <tr>\n",
       "      <th>3565</th>\n",
       "      <td>Google Drive</td>\n",
       "      <td>PRODUCTIVITY</td>\n",
       "      <td>4.4</td>\n",
       "      <td>2731211.0</td>\n",
       "      <td>Varies with device</td>\n",
       "      <td>1,000,000,000+</td>\n",
       "      <td>Free</td>\n",
       "      <td>0</td>\n",
       "      <td>Everyone</td>\n",
       "      <td>Productivity</td>\n",
       "      <td>August 6, 2018</td>\n",
       "      <td>Varies with device</td>\n",
       "      <td>Varies with device</td>\n",
       "      <td>1000000000</td>\n",
       "    </tr>\n",
       "  </tbody>\n",
       "</table>\n",
       "</div>"
      ],
      "text/plain": [
       "                                           App       Category  Rating  \\\n",
       "3896                            Subway Surfers           GAME     4.5   \n",
       "3943                                  Facebook         SOCIAL     4.1   \n",
       "335   Messenger – Text and Video Chat for Free  COMMUNICATION     4.0   \n",
       "3523                              Google Drive   PRODUCTIVITY     4.4   \n",
       "3565                              Google Drive   PRODUCTIVITY     4.4   \n",
       "\n",
       "         Reviews                Size        Installs  Type Price  \\\n",
       "3896  27711703.0                 76M  1,000,000,000+  Free     0   \n",
       "3943  78128208.0  Varies with device  1,000,000,000+  Free     0   \n",
       "335   56642847.0  Varies with device  1,000,000,000+  Free     0   \n",
       "3523   2731211.0  Varies with device  1,000,000,000+  Free     0   \n",
       "3565   2731211.0  Varies with device  1,000,000,000+  Free     0   \n",
       "\n",
       "     Content Rating         Genres    Last Updated         Current Ver  \\\n",
       "3896   Everyone 10+         Arcade   July 12, 2018              1.90.0   \n",
       "3943           Teen         Social  August 3, 2018  Varies with device   \n",
       "335        Everyone  Communication  August 1, 2018  Varies with device   \n",
       "3523       Everyone   Productivity  August 6, 2018  Varies with device   \n",
       "3565       Everyone   Productivity  August 6, 2018  Varies with device   \n",
       "\n",
       "             Android Ver  Installs_1  \n",
       "3896          4.1 and up  1000000000  \n",
       "3943  Varies with device  1000000000  \n",
       "335   Varies with device  1000000000  \n",
       "3523  Varies with device  1000000000  \n",
       "3565  Varies with device  1000000000  "
      ]
     },
     "execution_count": 55,
     "metadata": {},
     "output_type": "execute_result"
    }
   ],
   "source": [
    "data.iloc[index]"
   ]
  },
  {
   "cell_type": "code",
   "execution_count": null,
   "id": "3005fabe-1c6e-43c4-b321-e45df22814b1",
   "metadata": {},
   "outputs": [],
   "source": []
  }
 ],
 "metadata": {
  "kernelspec": {
   "display_name": "Python 3 (ipykernel)",
   "language": "python",
   "name": "python3"
  },
  "language_info": {
   "codemirror_mode": {
    "name": "ipython",
    "version": 3
   },
   "file_extension": ".py",
   "mimetype": "text/x-python",
   "name": "python",
   "nbconvert_exporter": "python",
   "pygments_lexer": "ipython3",
   "version": "3.11.4"
  }
 },
 "nbformat": 4,
 "nbformat_minor": 5
}
